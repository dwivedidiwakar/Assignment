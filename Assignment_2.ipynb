{
 "cells": [
  {
   "cell_type": "markdown",
   "metadata": {},
   "source": [
    "1.1   \n",
    "Write a Python Program to implement your own myreduce() function which works exactly like Python's built-in function reduce() "
   ]
  },
  {
   "cell_type": "code",
   "execution_count": 56,
   "metadata": {},
   "outputs": [
    {
     "name": "stdout",
     "output_type": "stream",
     "text": [
      "0\n"
     ]
    }
   ],
   "source": [
    "def myreduce(list,first,second):\n",
    "    if(first<=second):\n",
    "        minimum = first\n",
    "    else:\n",
    "        minimum = second\n",
    "    for i in list[2:]:\n",
    "        if(i<=minimum):\n",
    "            minimum = i\n",
    "    return minimum       \n",
    "list=[8,6,2,1,4,10,0,7,18]\n",
    "print(myreduce(list,list[0],list[1]))"
   ]
  },
  {
   "cell_type": "markdown",
   "metadata": {},
   "source": [
    "1.2  Write a Python program to implement your own myfilter() function which works exactly like Python's built-in function filter()"
   ]
  },
  {
   "cell_type": "code",
   "execution_count": 26,
   "metadata": {},
   "outputs": [
    {
     "name": "stdout",
     "output_type": "stream",
     "text": [
      "[1, 3, 5, 7]\n"
     ]
    }
   ],
   "source": [
    "def myfilter(list):\n",
    "    prime_list=[1]\n",
    "    for i in list:\n",
    "        prime = 0\n",
    "        for j in range(2,i):\n",
    "            if(i%j == 0):\n",
    "                prime = 0\n",
    "                break\n",
    "            else:\n",
    "                prime = 1\n",
    "                continue\n",
    "        if(prime):\n",
    "            prime_list.append(i)\n",
    "    return prime_list       \n",
    "list = range(1,10)\n",
    "print(myfilter(list))"
   ]
  },
  {
   "cell_type": "markdown",
   "metadata": {},
   "source": [
    "2.   \n",
    "Implement List comprehensions to produce the following lists.  \n",
    "Write List comprehensions to produce the following Lists  \n",
    "\n",
    "['A', 'C', 'A', 'D', 'G', 'I', ’L’, ‘ D’]\n",
    "['x', 'xx', 'xxx', 'xxxx', 'y', 'yy', 'yyy', 'yyyy', 'z', 'zz', 'zzz', 'zzzz']\n",
    "['x', 'y', 'z', 'xx', 'yy', 'zz', 'xxx', 'yyy', 'zzz', 'xxxx', 'yyyy', 'zzzz']\n",
    "[[2], [3], [4], [3], [4], [5], [4], [5], [6]]\n",
    "[[2, 3, 4, 5], [3, 4, 5, 6], [4, 5, 6, 7], [5, 6, 7, 8]]\n",
    "[(1, 1), (2, 1), (3, 1), (1, 2), (2, 2), (3, 2), (1, 3), (2, 3), (3, 3)]"
   ]
  },
  {
   "cell_type": "code",
   "execution_count": 40,
   "metadata": {},
   "outputs": [
    {
     "name": "stdout",
     "output_type": "stream",
     "text": [
      "['A', 'C', 'A', 'D', 'G', 'I', 'L', 'D']\n",
      "['x', 'xx', 'xxx', 'xxxx', 'y', 'yy', 'yyy', 'yyyy', 'z', 'zz', 'zzz', 'zzzz']\n",
      "['x', 'y', 'z', 'xx', 'yy', 'zz', 'xxx', 'yyy', 'zzz', 'xxxx', 'yyyy', 'zzzz']\n",
      "[[2], [3], [4], [3], [4], [5], [4], [5], [6]]\n",
      "[[2, 3, 4, 5], [3, 4, 5, 6], [4, 5, 6, 7], [5, 6, 7, 8]]\n",
      "[(1, 1), (2, 1), (3, 1), (1, 2), (2, 2), (3, 2), (1, 3), (2, 3), (3, 3)]\n"
     ]
    }
   ],
   "source": [
    "word = \"ACADGILD\"\n",
    "abc = [ i for i in word ]\n",
    "print(abc)\n",
    "\n",
    "given_List = ['x','y','z']\n",
    "xyz = [i*j for i in given_List for j in range(1,5)]\n",
    "print(xyz)\n",
    "\n",
    "efg = [i*j for j in range(1,5) for i in given_List]\n",
    "print(efg)\n",
    "\n",
    "given_List = [2,3,4]\n",
    "jkl = [[i+j] for i in given_List for j in range(0,3)]\n",
    "print(jkl)\n",
    "\n",
    "given_List = [2,3,4,5]\n",
    "abc = [[i+j for i in given_List] for j in range(0,4)]\n",
    "print(abc)\n",
    "\n",
    "given_List=[1,2,3]\n",
    "abc = [ (i,j) for j in given_List for i in given_List]\n",
    "print(abc)"
   ]
  },
  {
   "cell_type": "markdown",
   "metadata": {},
   "source": [
    "3.   \n",
    "Implement a function longestWord() that takes a list of words and returns the longest one. "
   ]
  },
  {
   "cell_type": "code",
   "execution_count": 22,
   "metadata": {},
   "outputs": [
    {
     "data": {
      "text/plain": [
       "['dshhhdhdhhd']"
      ]
     },
     "execution_count": 22,
     "metadata": {},
     "output_type": "execute_result"
    }
   ],
   "source": [
    "def longestWord(aList):\n",
    "    lenghtOfWord={}\n",
    "    longestWords=[]\n",
    "    for i in aList:\n",
    "        lenghtOfWord[i]=len(i)\n",
    "    maxLength = max(lenghtOfWord.values())\n",
    "    for key,value in lenghtOfWord.items():\n",
    "        if(value == maxLength): \n",
    "            longestWords.append(key)\n",
    "    return longestWords \n",
    "longestWord(['abc', 'def', 'tests', 'abvsgsy', 'efghik', 'dshhhdhdhhd'])"
   ]
  },
  {
   "cell_type": "markdown",
   "metadata": {},
   "source": [
    "1.1   \n",
    "Write a Python Program(with class concepts) to find the area of the triangle using the below formula.  \n",
    "area = (s*(s-a)*(s-b)*(s-c)) ** 0.5  \n",
    "Function to take the length of the sides of triangle from user should be defined in the parent class and function to calculate the area should be defined in subclass"
   ]
  },
  {
   "cell_type": "code",
   "execution_count": 79,
   "metadata": {},
   "outputs": [
    {
     "name": "stdout",
     "output_type": "stream",
     "text": [
      "6.0\n"
     ]
    }
   ],
   "source": [
    "class Triangle:\n",
    "     def __init__(self, a, b, c):\n",
    "            self.a = a\n",
    "            self.b = b\n",
    "            self.c = c\n",
    "class TriangleSides(Triangle):\n",
    "    def __init__(self, a, b, c):\n",
    "        super(TriangleSides, self).__init__(a, b, c)\n",
    "\n",
    "    def get_area(self):\n",
    "        s=(self.a+self.b+self.c)/2\n",
    "        area=(s*(s-self.a)*(s-self.b)*(s-self.c)) ** 0.5\n",
    "        print(area)\n",
    "        return area\n",
    "\n",
    "getArea=TriangleSides(3,4,5)\n",
    "area1=getArea.get_area()\n",
    "            \n"
   ]
  },
  {
   "cell_type": "markdown",
   "metadata": {},
   "source": [
    "1.2 Write a function filter_long_words() that takes a list of words and an integer n and returns the list of words that are longer than n. "
   ]
  },
  {
   "cell_type": "code",
   "execution_count": 62,
   "metadata": {},
   "outputs": [
    {
     "data": {
      "text/plain": [
       "['abc', 'def']"
      ]
     },
     "execution_count": 62,
     "metadata": {},
     "output_type": "execute_result"
    }
   ],
   "source": [
    "def wordeAfterNumber(string,number):\n",
    "    return [word for word in string if len(word) > number]\n",
    "wordeAfterNumber(['abc', 'def', 'bg'], 2)"
   ]
  },
  {
   "cell_type": "markdown",
   "metadata": {},
   "source": [
    "2.1 Write a Python program using function concept that maps list of words into a list of integers\n",
    "representing the lengths of the corresponding words.\n"
   ]
  },
  {
   "cell_type": "code",
   "execution_count": 17,
   "metadata": {},
   "outputs": [
    {
     "data": {
      "text/plain": [
       "[5, 3, 5]"
      ]
     },
     "execution_count": 17,
     "metadata": {},
     "output_type": "execute_result"
    }
   ],
   "source": [
    "def convert(aList):\n",
    "    xyz=[]\n",
    "    for i in aList:\n",
    "        xyz.append(len(i))\n",
    "    return xyz\n",
    "convert([\"abcdf\", \"mnp\", \"lmkno\"])"
   ]
  },
  {
   "cell_type": "markdown",
   "metadata": {},
   "source": [
    "2.2 Write a Python function which takes a character (i.e. a string of length 1) and returns True if it is a vowel, False      otherwise"
   ]
  },
  {
   "cell_type": "code",
   "execution_count": 18,
   "metadata": {},
   "outputs": [
    {
     "name": "stdout",
     "output_type": "stream",
     "text": [
      "True\n",
      "True\n",
      "True\n",
      "False\n"
     ]
    }
   ],
   "source": [
    "def vowelCheck(char):\n",
    "    vowel=['a', 'e', 'i', 'o', 'u', 'A', 'E', 'I', 'O', 'U']\n",
    "    if char in vowel:\n",
    "        return True\n",
    "    else:\n",
    "        return False\n",
    "print(vowelCheck(\"a\"))\n",
    "print(vowelCheck(\"A\"))\n",
    "print(vowelCheck(\"a\"))\n",
    "print(vowelCheck(\"C\"))"
   ]
  },
  {
   "cell_type": "code",
   "execution_count": null,
   "metadata": {},
   "outputs": [],
   "source": []
  },
  {
   "cell_type": "code",
   "execution_count": null,
   "metadata": {},
   "outputs": [],
   "source": []
  }
 ],
 "metadata": {
  "kernelspec": {
   "display_name": "Python 3",
   "language": "python",
   "name": "python3"
  },
  "language_info": {
   "codemirror_mode": {
    "name": "ipython",
    "version": 3
   },
   "file_extension": ".py",
   "mimetype": "text/x-python",
   "name": "python",
   "nbconvert_exporter": "python",
   "pygments_lexer": "ipython3",
   "version": "3.7.4"
  }
 },
 "nbformat": 4,
 "nbformat_minor": 2
}
